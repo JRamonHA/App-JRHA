{
 "cells": [
  {
   "cell_type": "code",
   "execution_count": 1,
   "metadata": {},
   "outputs": [],
   "source": [
    "import pandas as pd\n",
    "import glob"
   ]
  },
  {
   "cell_type": "code",
   "execution_count": 2,
   "metadata": {},
   "outputs": [],
   "source": [
    "columnas = {\n",
    "    'I_glo_Avg': 'Ib',\n",
    "    'I_dif_Avg': 'Ig',\n",
    "    'AirTC_Avg': 'To',\n",
    "    'RH': 'RH',\n",
    "    'WS_ms_Avg': 'WS',\n",
    "    'CS106_PB_Avg': 'P'\n",
    "}"
   ]
  },
  {
   "cell_type": "code",
   "execution_count": 3,
   "metadata": {},
   "outputs": [],
   "source": [
    "archivos = glob.glob('../data/raw/*.csv')"
   ]
  },
  {
   "cell_type": "code",
   "execution_count": 4,
   "metadata": {},
   "outputs": [],
   "source": [
    "for f in archivos:\n",
    "    esol = pd.read_csv(f, encoding='ISO-8859-1', skiprows=[0, 2, 3], index_col=0, parse_dates=True, dayfirst=True, low_memory=False)\n",
    "    esol = esol.apply(pd.to_numeric, errors='coerce')\n",
    "    \n",
    "    for col in ['RECORD', 'I_dir_Avg', 'I_uv_Avg']:\n",
    "        if col in esol.columns:\n",
    "            del esol[col]"
   ]
  },
  {
   "cell_type": "code",
   "execution_count": 5,
   "metadata": {},
   "outputs": [],
   "source": [
    "esol = esol.rename(columns=columnas)"
   ]
  },
  {
   "cell_type": "code",
   "execution_count": 6,
   "metadata": {},
   "outputs": [],
   "source": [
    "processed = f.replace('../data/raw', '../data/proc').replace('.csv', '.parquet')\n",
    "esol.to_parquet(processed)"
   ]
  }
 ],
 "metadata": {
  "kernelspec": {
   "display_name": "shiny",
   "language": "python",
   "name": "python3"
  },
  "language_info": {
   "codemirror_mode": {
    "name": "ipython",
    "version": 3
   },
   "file_extension": ".py",
   "mimetype": "text/x-python",
   "name": "python",
   "nbconvert_exporter": "python",
   "pygments_lexer": "ipython3",
   "version": "3.12.7"
  }
 },
 "nbformat": 4,
 "nbformat_minor": 2
}
