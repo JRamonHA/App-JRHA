{
 "cells": [
  {
   "cell_type": "code",
   "execution_count": 1,
   "metadata": {},
   "outputs": [],
   "source": [
    "import pandas as pd\n",
    "import glob"
   ]
  },
  {
   "cell_type": "code",
   "execution_count": 2,
   "metadata": {},
   "outputs": [],
   "source": [
    "columnas = {\n",
    "    'I_dir_Avg': 'Ib',\n",
    "    'I_glo_Avg': 'Ig',\n",
    "    'I_dif_Avg': 'Id',\n",
    "    'AirTC_Avg': 'To',\n",
    "    'RH': 'RH',\n",
    "    'RH_Avg': 'RH',\n",
    "    'WS_ms_Avg': 'WS',\n",
    "    'CS106_PB_Avg': 'P'\n",
    "}"
   ]
  },
  {
   "cell_type": "code",
   "execution_count": 3,
   "metadata": {},
   "outputs": [],
   "source": [
    "archivos = glob.glob('../data/raw/*.csv')"
   ]
  },
  {
   "cell_type": "code",
   "execution_count": 4,
   "metadata": {},
   "outputs": [],
   "source": [
    "def procesar_archivo(f):\n",
    "    \"\"\"\n",
    "    Procesa un archivo CSV y lo guarda en formato Parquet.\n",
    "    Parámetros:\n",
    "    f (str): Ruta del archivo CSV a procesar.\n",
    "    Pasos:\n",
    "    1. Lee el archivo CSV con codificación 'ANSI', omitiendo las filas 0, 2 y 3, y configurando la primera columna como índice.\n",
    "    2. Convierte todas las columnas a valores numéricos, reemplazando errores con NaN.\n",
    "    3. Elimina las columnas 'RECORD', 'I_uv_Avg' y 'Rain_mm_Tot' si existen.\n",
    "    4. Renombra las columnas según el diccionario 'columnas'.\n",
    "    5. Guarda el DataFrame resultante en formato Parquet en la ruta especificada.\n",
    "    \"\"\"\n",
    "    esol = pd.read_csv(f, encoding='ANSI', skiprows=[0, 2, 3], index_col=0, parse_dates=True, dayfirst=True, low_memory=False)\n",
    "    \n",
    "    esol = esol.apply(pd.to_numeric, errors='coerce')\n",
    "    \n",
    "    if 'RECORD' in esol.columns:\n",
    "        del esol['RECORD']\n",
    "    if 'I_uv_Avg' in esol.columns:\n",
    "        del esol['I_uv_Avg']\n",
    "    if 'Rain_mm_Tot' in esol.columns:\n",
    "        del esol['Rain_mm_Tot']\n",
    "    \n",
    "    esol = esol.rename(columns=columnas)\n",
    "    \n",
    "    formato = f.replace('../data/raw', '../data/proc').replace('.csv', '.parquet')\n",
    "    esol.to_parquet(formato)"
   ]
  },
  {
   "cell_type": "code",
   "execution_count": 5,
   "metadata": {},
   "outputs": [],
   "source": [
    "for archivo in archivos:\n",
    "    procesar_archivo(archivo)"
   ]
  }
 ],
 "metadata": {
  "kernelspec": {
   "display_name": "shiny",
   "language": "python",
   "name": "python3"
  },
  "language_info": {
   "codemirror_mode": {
    "name": "ipython",
    "version": 3
   },
   "file_extension": ".py",
   "mimetype": "text/x-python",
   "name": "python",
   "nbconvert_exporter": "python",
   "pygments_lexer": "ipython3",
   "version": "3.12.8"
  }
 },
 "nbformat": 4,
 "nbformat_minor": 2
}
